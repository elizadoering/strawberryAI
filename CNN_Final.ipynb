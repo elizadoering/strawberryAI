{
 "cells": [
  {
   "cell_type": "markdown",
   "metadata": {
    "id": "QFjmOBSC1AtH"
   },
   "source": [
    "Adding library imports "
   ]
  },
  {
   "cell_type": "code",
   "execution_count": 161,
   "metadata": {
    "id": "vhgsbq11oXGm"
   },
   "outputs": [],
   "source": [
    "import numpy as np\n",
    "import pandas as pd\n",
    "import matplotlib.pyplot as plt\n",
    "import cv2 \n",
    "import os\n",
    "import glob\n",
    "import random\n",
    "from sklearn.metrics import accuracy_score\n",
    "from sklearn.metrics import roc_auc_score\n"
   ]
  },
  {
   "cell_type": "markdown",
   "metadata": {
    "id": "16rb6AES0_Vs"
   },
   "source": [
    "Reading the initial strawberry files. Matplotlib's default color scheme BGR, so the initial reading\n",
    "(as shown here) is reading the jpg color code's in reverse order. The image should be displayed as follows, but the output is incorrect.   \n",
    "\n",
    "![r_130_100.jpg](data:image/jpeg;base64,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)\n",
    "\n"
   ]
  },
  {
   "cell_type": "markdown",
   "metadata": {
    "id": "5qulK-gu5Bdg"
   },
   "source": [
    "Here the image is updated to the color colorscheme using cvtColor"
   ]
  },
  {
   "cell_type": "code",
   "execution_count": 149,
   "metadata": {
    "colab": {
     "base_uri": "https://localhost:8080/",
     "height": 285
    },
    "id": "WYK02wDx2wx9",
    "outputId": "fbd58b39-559e-437c-a4d5-451344b7535a"
   },
   "outputs": [],
   "source": [
    "# Displaying images with updated RBG color scheme \n",
    "#colorFixImg = cv2.cvtColor(images[0], cv2.COLOR_BGR2RGB)\n",
    "#plt.imshow(colorFixImg)\n"
   ]
  },
  {
   "cell_type": "code",
   "execution_count": 162,
   "metadata": {
    "colab": {
     "base_uri": "https://localhost:8080/",
     "height": 351
    },
    "id": "SbevQGoKBApA",
    "outputId": "d6649ff0-62ab-43ff-f448-91967b27e9ec"
   },
   "outputs": [],
   "source": [
    "# import shutil\n",
    "path = '/Users/Bobby/Fall2020/Artificial Intelligence/Semester Project/fruits-360/*/*/*'\n",
    "files = []\n",
    "[files.extend(glob.glob(path + '*.jpg'))]\n",
    "\n",
    "# shuffle pitcures\n",
    "random.shuffle(files)\n"
   ]
  },
  {
   "cell_type": "code",
   "execution_count": 163,
   "metadata": {
    "colab": {
     "base_uri": "https://localhost:8080/",
     "height": 215
    },
    "id": "6pLaSn5BPAOK",
    "outputId": "0d515976-bb36-46d6-82d9-1c2827d01c67"
   },
   "outputs": [
    {
     "name": "stdout",
     "output_type": "stream",
     "text": [
      "Length of files: 90380\n",
      "Number of Strawberry Images: 1640\n",
      "Number of Images: 90380\n",
      "Shape of Color Images: (90380, 100, 100, 3)\n",
      "Shape of Labels: (90380, 1)\n"
     ]
    }
   ],
   "source": [
    "# label the strawberry images\n",
    "IMG_SIZE = 100\n",
    "labels = []\n",
    "color_images = []\n",
    "grayscale_images = []\n",
    "strawCount = 0\n",
    "image_count = 0\n",
    "#files = files[:200]\n",
    "print('Length of files:', len(files))\n",
    "for file in files:\n",
    "    if 'Strawberry' in file or 'strawberry' in file:\n",
    "        labels.append(1)\n",
    "        strawCount += 1\n",
    "    else: labels.append(0)    \n",
    "    # Color\n",
    "    color_image = cv2.imread(os.path.join(path, file))\n",
    "    color_image = cv2.resize(color_image, (IMG_SIZE, IMG_SIZE), interpolation = cv2.INTER_AREA)\n",
    "    # Grayscale\n",
    "    #grayscale_image = cv2.imread(os.path.join(path, file), cv2.IMREAD_GRAYSCALE)\n",
    "    #grayscale_image = cv2.resize(grayscale_image, (IMG_SIZE, IMG_SIZE), interpolation = cv2.INTER_AREA)\n",
    "    color_images.append(color_image)\n",
    "    #grayscale_images.append(grayscale_image)\n",
    "    #plt.imshow(images[0], cmap = \"gray\")\n",
    "\n",
    "c_images = np.array(color_images)\n",
    "#g_images = np.array(grayscale_images)\n",
    "labels = np.array(labels)\n",
    "labels.resize(len(labels), 1)\n",
    "print('Number of Strawberry Images:', strawCount)\n",
    "print('Number of Images:', len(c_images))\n",
    "print('Shape of Color Images:', c_images.shape)\n",
    "#print('Shape of Grayscale Images:', g_images.shape)\n",
    "print('Shape of Labels:', labels.shape)\n",
    "#plt.imshow(images[0])\n"
   ]
  },
  {
   "cell_type": "code",
   "execution_count": 164,
   "metadata": {},
   "outputs": [
    {
     "name": "stdout",
     "output_type": "stream",
     "text": [
      "X_train Color shape: (72304, 100, 100, 3)\n"
     ]
    }
   ],
   "source": [
    "# train-test split\n",
    "from sklearn.model_selection import train_test_split\n",
    "from skimage.feature import hog\n",
    "X_trainc, X_testc, y_trainc, y_testc = train_test_split(c_images, labels, test_size = 0.2, random_state = 0)\n",
    "#X_traing, X_testg, y_traing, y_testg = train_test_split(g_images, labels, test_size = 0.2, random_state = 0)\n",
    "\n",
    "print('X_train Color shape:', X_trainc.shape) \n",
    "\n",
    "X_trainc = X_trainc.astype('float32')\n",
    "X_testc = X_testc.astype('float32')\n",
    "X_trainc /= 255\n",
    "X_testc /= 255\n",
    "'''\n",
    "X_traing = X_traing.astype('float32')\n",
    "X_testg = X_testg.astype('float32')\n",
    "X_traing /= 255\n",
    "X_testg /= 255\n",
    "'''\n",
    "X_traing = np.array(X_traing).reshape(len(X_traing), IMG_SIZE, IMG_SIZE, 1)\n",
    "#X_testg = np.array(X_testg).reshape(len(X_testg), IMG_SIZE, IMG_SIZE, 1)\n",
    "#print('X_train Grayscale shape:', X_traing.shape) "
   ]
  },
  {
   "cell_type": "code",
   "execution_count": 165,
   "metadata": {},
   "outputs": [],
   "source": [
    "def plot_train_and_val(history):\n",
    "    plt.plot(history.history['accuracy'])\n",
    "    plt.plot(history.history['val_accuracy'])\n",
    "    plt.title('CNN Model Accuracy')\n",
    "    plt.ylabel('Accuracy')\n",
    "    plt.xlabel('Epochs')\n",
    "    plt.legend(['Training', 'Validation'], loc='lower right')\n",
    "    plt.show()\n",
    "    plt.plot(history.history['loss'])\n",
    "    plt.plot(history.history['val_loss'])\n",
    "    plt.title('CNN Model Loss')\n",
    "    plt.ylabel('Loss')\n",
    "    plt.xlabel('Epochs')\n",
    "    plt.legend(['Training', 'Validation'], loc='lower right')\n",
    "    plt.show()\n"
   ]
  },
  {
   "cell_type": "code",
   "execution_count": 167,
   "metadata": {},
   "outputs": [
    {
     "name": "stdout",
     "output_type": "stream",
     "text": [
      "CNN Model 1\n",
      "Epoch 1/7\n",
      "   3/2260 [..............................] - ETA: 4:41 - loss: 2.9285e-11 - accuracy: 1.0000"
     ]
    },
    {
     "ename": "KeyboardInterrupt",
     "evalue": "",
     "output_type": "error",
     "traceback": [
      "\u001b[0;31m---------------------------------------------------------------------------\u001b[0m",
      "\u001b[0;31mKeyboardInterrupt\u001b[0m                         Traceback (most recent call last)",
      "\u001b[0;32m<ipython-input-167-8521f2797e34>\u001b[0m in \u001b[0;36m<module>\u001b[0;34m\u001b[0m\n\u001b[1;32m     41\u001b[0m \u001b[0;31m# CNN with one Convolutional layer Color\u001b[0m\u001b[0;34m\u001b[0m\u001b[0;34m\u001b[0m\u001b[0;34m\u001b[0m\u001b[0m\n\u001b[1;32m     42\u001b[0m \u001b[0mprint\u001b[0m\u001b[0;34m(\u001b[0m\u001b[0;34m'CNN Model 1'\u001b[0m\u001b[0;34m)\u001b[0m\u001b[0;34m\u001b[0m\u001b[0;34m\u001b[0m\u001b[0m\n\u001b[0;32m---> 43\u001b[0;31m \u001b[0mCNN_model\u001b[0m\u001b[0;34m(\u001b[0m\u001b[0;36m7\u001b[0m\u001b[0;34m,\u001b[0m \u001b[0;32mFalse\u001b[0m\u001b[0;34m,\u001b[0m \u001b[0mX_trainc\u001b[0m\u001b[0;34m,\u001b[0m \u001b[0mX_testc\u001b[0m\u001b[0;34m,\u001b[0m \u001b[0my_trainc\u001b[0m\u001b[0;34m,\u001b[0m \u001b[0my_testc\u001b[0m\u001b[0;34m)\u001b[0m\u001b[0;34m\u001b[0m\u001b[0;34m\u001b[0m\u001b[0m\n\u001b[0m\u001b[1;32m     44\u001b[0m \u001b[0mprint\u001b[0m\u001b[0;34m(\u001b[0m\u001b[0;34m'\\n'\u001b[0m\u001b[0;34m)\u001b[0m\u001b[0;34m\u001b[0m\u001b[0;34m\u001b[0m\u001b[0m\n\u001b[1;32m     45\u001b[0m \u001b[0;34m\u001b[0m\u001b[0m\n",
      "\u001b[0;32m<ipython-input-167-8521f2797e34>\u001b[0m in \u001b[0;36mCNN_model\u001b[0;34m(epochs_, three_layers, X_train, X_test, y_train, y_test)\u001b[0m\n\u001b[1;32m     35\u001b[0m                  \u001b[0moptimizer\u001b[0m \u001b[0;34m=\u001b[0m \u001b[0;34m'adam'\u001b[0m\u001b[0;34m,\u001b[0m\u001b[0;34m\u001b[0m\u001b[0;34m\u001b[0m\u001b[0m\n\u001b[1;32m     36\u001b[0m                  metrics = ['accuracy'])\n\u001b[0;32m---> 37\u001b[0;31m     \u001b[0mhistory\u001b[0m \u001b[0;34m=\u001b[0m \u001b[0mmodel\u001b[0m\u001b[0;34m.\u001b[0m\u001b[0mfit\u001b[0m\u001b[0;34m(\u001b[0m\u001b[0mX_train\u001b[0m\u001b[0;34m,\u001b[0m \u001b[0my_train\u001b[0m\u001b[0;34m,\u001b[0m \u001b[0mbatch_size\u001b[0m \u001b[0;34m=\u001b[0m \u001b[0;36m32\u001b[0m\u001b[0;34m,\u001b[0m \u001b[0mepochs\u001b[0m \u001b[0;34m=\u001b[0m \u001b[0mepochs_\u001b[0m\u001b[0;34m,\u001b[0m \u001b[0mvalidation_data\u001b[0m \u001b[0;34m=\u001b[0m \u001b[0;34m(\u001b[0m\u001b[0mX_test\u001b[0m\u001b[0;34m,\u001b[0m \u001b[0my_test\u001b[0m\u001b[0;34m)\u001b[0m\u001b[0;34m)\u001b[0m\u001b[0;34m\u001b[0m\u001b[0;34m\u001b[0m\u001b[0m\n\u001b[0m\u001b[1;32m     38\u001b[0m     \u001b[0mplot_train_and_val\u001b[0m\u001b[0;34m(\u001b[0m\u001b[0mhistory\u001b[0m\u001b[0;34m)\u001b[0m\u001b[0;34m\u001b[0m\u001b[0;34m\u001b[0m\u001b[0m\n\u001b[1;32m     39\u001b[0m \u001b[0;34m\u001b[0m\u001b[0m\n",
      "\u001b[0;32m~/opt/anaconda3/lib/python3.8/site-packages/tensorflow/python/keras/engine/training.py\u001b[0m in \u001b[0;36m_method_wrapper\u001b[0;34m(self, *args, **kwargs)\u001b[0m\n\u001b[1;32m    106\u001b[0m   \u001b[0;32mdef\u001b[0m \u001b[0m_method_wrapper\u001b[0m\u001b[0;34m(\u001b[0m\u001b[0mself\u001b[0m\u001b[0;34m,\u001b[0m \u001b[0;34m*\u001b[0m\u001b[0margs\u001b[0m\u001b[0;34m,\u001b[0m \u001b[0;34m**\u001b[0m\u001b[0mkwargs\u001b[0m\u001b[0;34m)\u001b[0m\u001b[0;34m:\u001b[0m\u001b[0;34m\u001b[0m\u001b[0;34m\u001b[0m\u001b[0m\n\u001b[1;32m    107\u001b[0m     \u001b[0;32mif\u001b[0m \u001b[0;32mnot\u001b[0m \u001b[0mself\u001b[0m\u001b[0;34m.\u001b[0m\u001b[0m_in_multi_worker_mode\u001b[0m\u001b[0;34m(\u001b[0m\u001b[0;34m)\u001b[0m\u001b[0;34m:\u001b[0m  \u001b[0;31m# pylint: disable=protected-access\u001b[0m\u001b[0;34m\u001b[0m\u001b[0;34m\u001b[0m\u001b[0m\n\u001b[0;32m--> 108\u001b[0;31m       \u001b[0;32mreturn\u001b[0m \u001b[0mmethod\u001b[0m\u001b[0;34m(\u001b[0m\u001b[0mself\u001b[0m\u001b[0;34m,\u001b[0m \u001b[0;34m*\u001b[0m\u001b[0margs\u001b[0m\u001b[0;34m,\u001b[0m \u001b[0;34m**\u001b[0m\u001b[0mkwargs\u001b[0m\u001b[0;34m)\u001b[0m\u001b[0;34m\u001b[0m\u001b[0;34m\u001b[0m\u001b[0m\n\u001b[0m\u001b[1;32m    109\u001b[0m \u001b[0;34m\u001b[0m\u001b[0m\n\u001b[1;32m    110\u001b[0m     \u001b[0;31m# Running inside `run_distribute_coordinator` already.\u001b[0m\u001b[0;34m\u001b[0m\u001b[0;34m\u001b[0m\u001b[0;34m\u001b[0m\u001b[0m\n",
      "\u001b[0;32m~/opt/anaconda3/lib/python3.8/site-packages/tensorflow/python/keras/engine/training.py\u001b[0m in \u001b[0;36mfit\u001b[0;34m(self, x, y, batch_size, epochs, verbose, callbacks, validation_split, validation_data, shuffle, class_weight, sample_weight, initial_epoch, steps_per_epoch, validation_steps, validation_batch_size, validation_freq, max_queue_size, workers, use_multiprocessing)\u001b[0m\n\u001b[1;32m   1096\u001b[0m                 batch_size=batch_size):\n\u001b[1;32m   1097\u001b[0m               \u001b[0mcallbacks\u001b[0m\u001b[0;34m.\u001b[0m\u001b[0mon_train_batch_begin\u001b[0m\u001b[0;34m(\u001b[0m\u001b[0mstep\u001b[0m\u001b[0;34m)\u001b[0m\u001b[0;34m\u001b[0m\u001b[0;34m\u001b[0m\u001b[0m\n\u001b[0;32m-> 1098\u001b[0;31m               \u001b[0mtmp_logs\u001b[0m \u001b[0;34m=\u001b[0m \u001b[0mtrain_function\u001b[0m\u001b[0;34m(\u001b[0m\u001b[0miterator\u001b[0m\u001b[0;34m)\u001b[0m\u001b[0;34m\u001b[0m\u001b[0;34m\u001b[0m\u001b[0m\n\u001b[0m\u001b[1;32m   1099\u001b[0m               \u001b[0;32mif\u001b[0m \u001b[0mdata_handler\u001b[0m\u001b[0;34m.\u001b[0m\u001b[0mshould_sync\u001b[0m\u001b[0;34m:\u001b[0m\u001b[0;34m\u001b[0m\u001b[0;34m\u001b[0m\u001b[0m\n\u001b[1;32m   1100\u001b[0m                 \u001b[0mcontext\u001b[0m\u001b[0;34m.\u001b[0m\u001b[0masync_wait\u001b[0m\u001b[0;34m(\u001b[0m\u001b[0;34m)\u001b[0m\u001b[0;34m\u001b[0m\u001b[0;34m\u001b[0m\u001b[0m\n",
      "\u001b[0;32m~/opt/anaconda3/lib/python3.8/site-packages/tensorflow/python/eager/def_function.py\u001b[0m in \u001b[0;36m__call__\u001b[0;34m(self, *args, **kwds)\u001b[0m\n\u001b[1;32m    778\u001b[0m       \u001b[0;32melse\u001b[0m\u001b[0;34m:\u001b[0m\u001b[0;34m\u001b[0m\u001b[0;34m\u001b[0m\u001b[0m\n\u001b[1;32m    779\u001b[0m         \u001b[0mcompiler\u001b[0m \u001b[0;34m=\u001b[0m \u001b[0;34m\"nonXla\"\u001b[0m\u001b[0;34m\u001b[0m\u001b[0;34m\u001b[0m\u001b[0m\n\u001b[0;32m--> 780\u001b[0;31m         \u001b[0mresult\u001b[0m \u001b[0;34m=\u001b[0m \u001b[0mself\u001b[0m\u001b[0;34m.\u001b[0m\u001b[0m_call\u001b[0m\u001b[0;34m(\u001b[0m\u001b[0;34m*\u001b[0m\u001b[0margs\u001b[0m\u001b[0;34m,\u001b[0m \u001b[0;34m**\u001b[0m\u001b[0mkwds\u001b[0m\u001b[0;34m)\u001b[0m\u001b[0;34m\u001b[0m\u001b[0;34m\u001b[0m\u001b[0m\n\u001b[0m\u001b[1;32m    781\u001b[0m \u001b[0;34m\u001b[0m\u001b[0m\n\u001b[1;32m    782\u001b[0m       \u001b[0mnew_tracing_count\u001b[0m \u001b[0;34m=\u001b[0m \u001b[0mself\u001b[0m\u001b[0;34m.\u001b[0m\u001b[0m_get_tracing_count\u001b[0m\u001b[0;34m(\u001b[0m\u001b[0;34m)\u001b[0m\u001b[0;34m\u001b[0m\u001b[0;34m\u001b[0m\u001b[0m\n",
      "\u001b[0;32m~/opt/anaconda3/lib/python3.8/site-packages/tensorflow/python/eager/def_function.py\u001b[0m in \u001b[0;36m_call\u001b[0;34m(self, *args, **kwds)\u001b[0m\n\u001b[1;32m    805\u001b[0m       \u001b[0;31m# In this case we have created variables on the first call, so we run the\u001b[0m\u001b[0;34m\u001b[0m\u001b[0;34m\u001b[0m\u001b[0;34m\u001b[0m\u001b[0m\n\u001b[1;32m    806\u001b[0m       \u001b[0;31m# defunned version which is guaranteed to never create variables.\u001b[0m\u001b[0;34m\u001b[0m\u001b[0;34m\u001b[0m\u001b[0;34m\u001b[0m\u001b[0m\n\u001b[0;32m--> 807\u001b[0;31m       \u001b[0;32mreturn\u001b[0m \u001b[0mself\u001b[0m\u001b[0;34m.\u001b[0m\u001b[0m_stateless_fn\u001b[0m\u001b[0;34m(\u001b[0m\u001b[0;34m*\u001b[0m\u001b[0margs\u001b[0m\u001b[0;34m,\u001b[0m \u001b[0;34m**\u001b[0m\u001b[0mkwds\u001b[0m\u001b[0;34m)\u001b[0m  \u001b[0;31m# pylint: disable=not-callable\u001b[0m\u001b[0;34m\u001b[0m\u001b[0;34m\u001b[0m\u001b[0m\n\u001b[0m\u001b[1;32m    808\u001b[0m     \u001b[0;32melif\u001b[0m \u001b[0mself\u001b[0m\u001b[0;34m.\u001b[0m\u001b[0m_stateful_fn\u001b[0m \u001b[0;32mis\u001b[0m \u001b[0;32mnot\u001b[0m \u001b[0;32mNone\u001b[0m\u001b[0;34m:\u001b[0m\u001b[0;34m\u001b[0m\u001b[0;34m\u001b[0m\u001b[0m\n\u001b[1;32m    809\u001b[0m       \u001b[0;31m# Release the lock early so that multiple threads can perform the call\u001b[0m\u001b[0;34m\u001b[0m\u001b[0;34m\u001b[0m\u001b[0;34m\u001b[0m\u001b[0m\n",
      "\u001b[0;32m~/opt/anaconda3/lib/python3.8/site-packages/tensorflow/python/eager/function.py\u001b[0m in \u001b[0;36m__call__\u001b[0;34m(self, *args, **kwargs)\u001b[0m\n\u001b[1;32m   2827\u001b[0m     \u001b[0;32mwith\u001b[0m \u001b[0mself\u001b[0m\u001b[0;34m.\u001b[0m\u001b[0m_lock\u001b[0m\u001b[0;34m:\u001b[0m\u001b[0;34m\u001b[0m\u001b[0;34m\u001b[0m\u001b[0m\n\u001b[1;32m   2828\u001b[0m       \u001b[0mgraph_function\u001b[0m\u001b[0;34m,\u001b[0m \u001b[0margs\u001b[0m\u001b[0;34m,\u001b[0m \u001b[0mkwargs\u001b[0m \u001b[0;34m=\u001b[0m \u001b[0mself\u001b[0m\u001b[0;34m.\u001b[0m\u001b[0m_maybe_define_function\u001b[0m\u001b[0;34m(\u001b[0m\u001b[0margs\u001b[0m\u001b[0;34m,\u001b[0m \u001b[0mkwargs\u001b[0m\u001b[0;34m)\u001b[0m\u001b[0;34m\u001b[0m\u001b[0;34m\u001b[0m\u001b[0m\n\u001b[0;32m-> 2829\u001b[0;31m     \u001b[0;32mreturn\u001b[0m \u001b[0mgraph_function\u001b[0m\u001b[0;34m.\u001b[0m\u001b[0m_filtered_call\u001b[0m\u001b[0;34m(\u001b[0m\u001b[0margs\u001b[0m\u001b[0;34m,\u001b[0m \u001b[0mkwargs\u001b[0m\u001b[0;34m)\u001b[0m  \u001b[0;31m# pylint: disable=protected-access\u001b[0m\u001b[0;34m\u001b[0m\u001b[0;34m\u001b[0m\u001b[0m\n\u001b[0m\u001b[1;32m   2830\u001b[0m \u001b[0;34m\u001b[0m\u001b[0m\n\u001b[1;32m   2831\u001b[0m   \u001b[0;34m@\u001b[0m\u001b[0mproperty\u001b[0m\u001b[0;34m\u001b[0m\u001b[0;34m\u001b[0m\u001b[0m\n",
      "\u001b[0;32m~/opt/anaconda3/lib/python3.8/site-packages/tensorflow/python/eager/function.py\u001b[0m in \u001b[0;36m_filtered_call\u001b[0;34m(self, args, kwargs, cancellation_manager)\u001b[0m\n\u001b[1;32m   1841\u001b[0m       \u001b[0;31m`\u001b[0m\u001b[0margs\u001b[0m\u001b[0;31m`\u001b[0m \u001b[0;32mand\u001b[0m\u001b[0;31m \u001b[0m\u001b[0;31m`\u001b[0m\u001b[0mkwargs\u001b[0m\u001b[0;31m`\u001b[0m\u001b[0;34m.\u001b[0m\u001b[0;34m\u001b[0m\u001b[0;34m\u001b[0m\u001b[0m\n\u001b[1;32m   1842\u001b[0m     \"\"\"\n\u001b[0;32m-> 1843\u001b[0;31m     return self._call_flat(\n\u001b[0m\u001b[1;32m   1844\u001b[0m         [t for t in nest.flatten((args, kwargs), expand_composites=True)\n\u001b[1;32m   1845\u001b[0m          if isinstance(t, (ops.Tensor,\n",
      "\u001b[0;32m~/opt/anaconda3/lib/python3.8/site-packages/tensorflow/python/eager/function.py\u001b[0m in \u001b[0;36m_call_flat\u001b[0;34m(self, args, captured_inputs, cancellation_manager)\u001b[0m\n\u001b[1;32m   1921\u001b[0m         and executing_eagerly):\n\u001b[1;32m   1922\u001b[0m       \u001b[0;31m# No tape is watching; skip to running the function.\u001b[0m\u001b[0;34m\u001b[0m\u001b[0;34m\u001b[0m\u001b[0;34m\u001b[0m\u001b[0m\n\u001b[0;32m-> 1923\u001b[0;31m       return self._build_call_outputs(self._inference_function.call(\n\u001b[0m\u001b[1;32m   1924\u001b[0m           ctx, args, cancellation_manager=cancellation_manager))\n\u001b[1;32m   1925\u001b[0m     forward_backward = self._select_forward_and_backward_functions(\n",
      "\u001b[0;32m~/opt/anaconda3/lib/python3.8/site-packages/tensorflow/python/eager/function.py\u001b[0m in \u001b[0;36mcall\u001b[0;34m(self, ctx, args, cancellation_manager)\u001b[0m\n\u001b[1;32m    543\u001b[0m       \u001b[0;32mwith\u001b[0m \u001b[0m_InterpolateFunctionError\u001b[0m\u001b[0;34m(\u001b[0m\u001b[0mself\u001b[0m\u001b[0;34m)\u001b[0m\u001b[0;34m:\u001b[0m\u001b[0;34m\u001b[0m\u001b[0;34m\u001b[0m\u001b[0m\n\u001b[1;32m    544\u001b[0m         \u001b[0;32mif\u001b[0m \u001b[0mcancellation_manager\u001b[0m \u001b[0;32mis\u001b[0m \u001b[0;32mNone\u001b[0m\u001b[0;34m:\u001b[0m\u001b[0;34m\u001b[0m\u001b[0;34m\u001b[0m\u001b[0m\n\u001b[0;32m--> 545\u001b[0;31m           outputs = execute.execute(\n\u001b[0m\u001b[1;32m    546\u001b[0m               \u001b[0mstr\u001b[0m\u001b[0;34m(\u001b[0m\u001b[0mself\u001b[0m\u001b[0;34m.\u001b[0m\u001b[0msignature\u001b[0m\u001b[0;34m.\u001b[0m\u001b[0mname\u001b[0m\u001b[0;34m)\u001b[0m\u001b[0;34m,\u001b[0m\u001b[0;34m\u001b[0m\u001b[0;34m\u001b[0m\u001b[0m\n\u001b[1;32m    547\u001b[0m               \u001b[0mnum_outputs\u001b[0m\u001b[0;34m=\u001b[0m\u001b[0mself\u001b[0m\u001b[0;34m.\u001b[0m\u001b[0m_num_outputs\u001b[0m\u001b[0;34m,\u001b[0m\u001b[0;34m\u001b[0m\u001b[0;34m\u001b[0m\u001b[0m\n",
      "\u001b[0;32m~/opt/anaconda3/lib/python3.8/site-packages/tensorflow/python/eager/execute.py\u001b[0m in \u001b[0;36mquick_execute\u001b[0;34m(op_name, num_outputs, inputs, attrs, ctx, name)\u001b[0m\n\u001b[1;32m     57\u001b[0m   \u001b[0;32mtry\u001b[0m\u001b[0;34m:\u001b[0m\u001b[0;34m\u001b[0m\u001b[0;34m\u001b[0m\u001b[0m\n\u001b[1;32m     58\u001b[0m     \u001b[0mctx\u001b[0m\u001b[0;34m.\u001b[0m\u001b[0mensure_initialized\u001b[0m\u001b[0;34m(\u001b[0m\u001b[0;34m)\u001b[0m\u001b[0;34m\u001b[0m\u001b[0;34m\u001b[0m\u001b[0m\n\u001b[0;32m---> 59\u001b[0;31m     tensors = pywrap_tfe.TFE_Py_Execute(ctx._handle, device_name, op_name,\n\u001b[0m\u001b[1;32m     60\u001b[0m                                         inputs, attrs, num_outputs)\n\u001b[1;32m     61\u001b[0m   \u001b[0;32mexcept\u001b[0m \u001b[0mcore\u001b[0m\u001b[0;34m.\u001b[0m\u001b[0m_NotOkStatusException\u001b[0m \u001b[0;32mas\u001b[0m \u001b[0me\u001b[0m\u001b[0;34m:\u001b[0m\u001b[0;34m\u001b[0m\u001b[0;34m\u001b[0m\u001b[0m\n",
      "\u001b[0;31mKeyboardInterrupt\u001b[0m: "
     ]
    }
   ],
   "source": [
    "# Convolutional Neural Network\n",
    "import tensorflow as tf\n",
    "from tensorflow.keras.models import Sequential\n",
    "from tensorflow.keras.layers import Dense, Dropout, Activation, Flatten, Conv2D, MaxPooling2D\n",
    "from tensorflow.keras import backend as K \n",
    "\n",
    "\n",
    "def CNN_model(epochs_, three_layers, X_train, X_test, y_train, y_test):\n",
    "    X_train = tf.convert_to_tensor(X_train[:,:,:,:3])\n",
    "    X_test = tf.convert_to_tensor(X_test[:,:,:,:3])\n",
    "    cnn_model = Sequential()\n",
    "    cnn_model.add(Conv2D(16, (3,3), input_shape = X_train.shape[1:]))\n",
    "    cnn_model.add(Activation('relu'))\n",
    "    cnn_model.add(MaxPooling2D(pool_size = (2,2)))\n",
    "\n",
    "    # For our second CNN model\n",
    "    if three_layers:\n",
    "        cnn_model.add(Conv2D(32, (3,3)))\n",
    "        cnn_model.add(Activation('relu'))\n",
    "        cnn_model.add(MaxPooling2D(pool_size = (2,2)))\n",
    "        \n",
    "        cnn_model.add(Conv2D(64, (3,3)))\n",
    "        cnn_model.add(Activation('relu'))\n",
    "        cnn_model.add(MaxPooling2D(pool_size = (2,2)))\n",
    "        \n",
    "    # Flatten from 2D to 1D\n",
    "    cnn_model.add(Flatten())\n",
    "    cnn_model.add(Dense(64))\n",
    "\n",
    "    # Output Layer\n",
    "    cnn_model.add(Dense(1))\n",
    "    cnn_model.add(Activation('sigmoid'))\n",
    "\n",
    "    cnn_model.compile(loss ='binary_crossentropy',\n",
    "                 optimizer = 'adam',\n",
    "                 metrics = ['accuracy'])\n",
    "    history = model.fit(X_train, y_train, batch_size = 32, epochs = epochs_, validation_data = (X_test, y_test))\n",
    "    plot_train_and_val(history)\n",
    "    \n",
    "\n",
    "# CNN with one Convolutional layer Color\n",
    "print('CNN Model 1')\n",
    "CNN_model(7, False, X_trainc, X_testc, y_trainc, y_testc)\n",
    "print('\\n')\n",
    "\n",
    "# CNN with two Convolutional layer Color\n",
    "print('CNN Model 2')\n",
    "CNN_model(7, True,  X_trainc, X_testc, y_trainc, y_testc)\n",
    "print('\\n')\n",
    "'''\n",
    "# CNN with one Convolutional layer Grayscale\n",
    "print('CNN Model 3')\n",
    "CNN_model(2, False, X_traing, X_testg, y_traing, y_testg)\n",
    "print('\\n')\n",
    "\n",
    "# CNN with two Convolutional layer Grayscale\n",
    "print('CNN Model 4')\n",
    "CNN_model(2, True, X_traing, X_testg, y_traing, y_testg)\n",
    "print('\\n')\n",
    "'''\n",
    "\n",
    "\n"
   ]
  },
  {
   "cell_type": "code",
   "execution_count": null,
   "metadata": {},
   "outputs": [],
   "source": [
    "\n",
    "\n",
    "\n"
   ]
  },
  {
   "cell_type": "code",
   "execution_count": null,
   "metadata": {},
   "outputs": [],
   "source": []
  },
  {
   "cell_type": "code",
   "execution_count": null,
   "metadata": {},
   "outputs": [],
   "source": []
  },
  {
   "cell_type": "code",
   "execution_count": null,
   "metadata": {},
   "outputs": [],
   "source": []
  },
  {
   "cell_type": "code",
   "execution_count": null,
   "metadata": {},
   "outputs": [],
   "source": []
  },
  {
   "cell_type": "markdown",
   "metadata": {},
   "source": [
    "\n",
    "\n",
    "\n",
    "\n",
    "\n",
    "\n",
    "\n",
    "\n",
    "\n",
    "\n",
    "\n",
    "\n",
    "\n",
    "\n",
    "\n",
    "\n",
    "\n",
    "\n"
   ]
  }
 ],
 "metadata": {
  "colab": {
   "collapsed_sections": [],
   "name": "Testing.py",
   "provenance": [],
   "toc_visible": true
  },
  "kernelspec": {
   "display_name": "Python 3",
   "language": "python",
   "name": "python3"
  },
  "language_info": {
   "codemirror_mode": {
    "name": "ipython",
    "version": 3
   },
   "file_extension": ".py",
   "mimetype": "text/x-python",
   "name": "python",
   "nbconvert_exporter": "python",
   "pygments_lexer": "ipython3",
   "version": "3.8.5"
  }
 },
 "nbformat": 4,
 "nbformat_minor": 1
}
