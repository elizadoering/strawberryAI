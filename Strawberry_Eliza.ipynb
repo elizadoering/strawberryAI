{
 "cells": [
  {
   "cell_type": "markdown",
   "metadata": {
    "id": "QFjmOBSC1AtH"
   },
   "source": [
    "Adding library imports "
   ]
  },
  {
   "cell_type": "code",
   "execution_count": 1,
   "metadata": {
    "id": "vhgsbq11oXGm"
   },
   "outputs": [],
   "source": [
    "import numpy as np\n",
    "import pandas as pd\n",
    "import matplotlib.pyplot as plt\n",
    "import cv2 \n",
    "import os\n",
    "import glob\n",
    "import skimage \n",
    "from skimage.io import imread "
   ]
  },
  {
   "cell_type": "code",
   "execution_count": 20,
   "metadata": {
    "colab": {
     "base_uri": "https://localhost:8080/",
     "height": 351
    },
    "id": "SbevQGoKBApA",
    "outputId": "d6649ff0-62ab-43ff-f448-91967b27e9ec"
   },
   "outputs": [],
   "source": [
    "#import shutil\n",
    "path = \"/Users/elizadoering/projects/AI/fruits-360/*/*/*\"\n",
    "files = []\n",
    "[files.extend(glob.glob(path + '*.jpg'))]\n",
    "\n",
    "images = [imread(file).astype(np.float32)/255.0 for file in files]"
   ]
  },
  {
   "cell_type": "code",
   "execution_count": 21,
   "metadata": {
    "colab": {
     "base_uri": "https://localhost:8080/",
     "height": 215
    },
    "id": "6pLaSn5BPAOK",
    "outputId": "0d515976-bb36-46d6-82d9-1c2827d01c67"
   },
   "outputs": [
    {
     "name": "stdout",
     "output_type": "stream",
     "text": [
      "90380\n",
      "1640\n",
      "88740\n"
     ]
    }
   ],
   "source": [
    "print(len(images))\n",
    "labels = []\n",
    "strawCount = 0\n",
    "nonStraw = 0\n",
    "for file in files:\n",
    "    if 'Strawberry' in file or 'strawberry' in file:\n",
    "        labels.append(1)\n",
    "        strawCount += 1\n",
    "    else:    \n",
    "        labels.append(0)\n",
    "        nonStraw += 1\n",
    "print(strawCount)\n",
    "print(nonStraw)"
   ]
  },
  {
   "cell_type": "code",
   "execution_count": 23,
   "metadata": {},
   "outputs": [],
   "source": [
    "from skimage.color import rgb2gray\n",
    "new_Images = []\n",
    "dim =100\n",
    "for i in range(0,len(images)):\n",
    "    original = images[i]\n",
    "    grayscale = rgb2gray(original)\n",
    "    new_Images.append(grayscale)\n",
    "X = np.array(new_Images)\n",
    "Y = np.array(labels)"
   ]
  },
  {
   "cell_type": "code",
   "execution_count": 24,
   "metadata": {},
   "outputs": [],
   "source": [
    "from sklearn.model_selection import train_test_split\n",
    "from skimage.feature import hog\n",
    "from sklearn.preprocessing import StandardScaler\n",
    "#X = np.array(images)\n",
    "\n",
    "x_reshape = X.reshape(90380,10000)\n",
    "Y = np.array(labels)\n",
    "X_train, X_test, Y_train, Y_test = train_test_split(x_reshape, Y, test_size = 0.2, random_state = 0)"
   ]
  },
  {
   "cell_type": "code",
   "execution_count": 25,
   "metadata": {},
   "outputs": [
    {
     "name": "stdout",
     "output_type": "stream",
     "text": [
      "X_train shape: (72304, 10000)\n",
      "X_test shape: (18076, 10000)\n"
     ]
    }
   ],
   "source": [
    "print('X_train shape:', X_train.shape)\n",
    "print('X_test shape:', X_test.shape)"
   ]
  },
  {
   "cell_type": "code",
   "execution_count": 26,
   "metadata": {},
   "outputs": [],
   "source": [
    "#naive bayes \n",
    "from sklearn.naive_bayes import GaussianNB\n",
    "from sklearn.svm import SVC\n",
    "from sklearn.neighbors import KNeighborsClassifier\n",
    "\n",
    "bayes = GaussianNB()\n",
    "svm = SVC()\n",
    "knn = KNeighborsClassifier()\n",
    "classifiers = [bayes,svm,knn]"
   ]
  },
  {
   "cell_type": "code",
   "execution_count": 27,
   "metadata": {},
   "outputs": [],
   "source": [
    "bayes.fit(X_train, Y_train, sample_weight=None)\n",
    "svm.fit(X_train,Y_train)\n",
    "#knn.fit(X_train,Y_train)\n",
    "y_pred_bayes = bayes.predict(X_test)\n",
    "y_pred_SVM = svm.predict(X_test)\n",
    "#y_pred_KNN = knn.predict(X_test)"
   ]
  },
  {
   "cell_type": "code",
   "execution_count": 159,
   "metadata": {},
   "outputs": [
    {
     "data": {
      "text/plain": [
       "<Figure size 1944x648 with 0 Axes>"
      ]
     },
     "metadata": {},
     "output_type": "display_data"
    }
   ],
   "source": [
    "figure = plt.figure(figsize=(27, 9))\n",
    "preds = [y_pred_bayes,y_pred_SVM]"
   ]
  },
  {
   "cell_type": "code",
   "execution_count": 30,
   "metadata": {},
   "outputs": [],
   "source": [
    "from sklearn import metrics \n",
    "score_bayes = bayes.score(X_test, Y_test)\n",
    "score_svm = svm.score(X_test,Y_test)\n",
    "#score_knn = knn.score(X_test,Y_test)"
   ]
  },
  {
   "cell_type": "code",
   "execution_count": 31,
   "metadata": {},
   "outputs": [
    {
     "name": "stdout",
     "output_type": "stream",
     "text": [
      "Bayes score :  0.7087298074795308\n",
      "SVM score   :  0.9996680681566719\n"
     ]
    }
   ],
   "source": [
    "print('Bayes score : ', score_bayes)\n",
    "print('SVM score   : ', score_svm)\n",
    "#print('KNN score   :', score_knn)"
   ]
  },
  {
   "cell_type": "code",
   "execution_count": 32,
   "metadata": {},
   "outputs": [
    {
     "name": "stdout",
     "output_type": "stream",
     "text": [
      "Bayes metrics report : \n",
      "               precision    recall  f1-score   support\n",
      "\n",
      "           0       1.00      0.70      0.83     17746\n",
      "           1       0.06      0.98      0.11       330\n",
      "\n",
      "    accuracy                           0.71     18076\n",
      "   macro avg       0.53      0.84      0.47     18076\n",
      "weighted avg       0.98      0.71      0.81     18076\n",
      "\n",
      "SVM metrics report   : \n",
      "               precision    recall  f1-score   support\n",
      "\n",
      "           0       1.00      1.00      1.00     17746\n",
      "           1       1.00      0.98      0.99       330\n",
      "\n",
      "    accuracy                           1.00     18076\n",
      "   macro avg       1.00      0.99      1.00     18076\n",
      "weighted avg       1.00      1.00      1.00     18076\n",
      "\n"
     ]
    }
   ],
   "source": [
    "print('Bayes metrics report : \\n',metrics.classification_report(Y_test, y_pred_bayes))\n",
    "print('SVM metrics report   : \\n',metrics.classification_report(Y_test, y_pred_SVM))"
   ]
  },
  {
   "cell_type": "code",
   "execution_count": 33,
   "metadata": {},
   "outputs": [
    {
     "data": {
      "image/png": "[encoded data removed]",
      "text/plain": [
       "<Figure size 432x288 with 1 Axes>"
      ]
     },
     "metadata": {
      "needs_background": "light"
     },
     "output_type": "display_data"
    },
    {
     "data": {
      "image/png": "[encoded data removed]",
      "text/plain": [
       "<Figure size 432x288 with 1 Axes>"
      ]
     },
     "metadata": {
      "needs_background": "light"
     },
     "output_type": "display_data"
    }
   ],
   "source": [
    "from sklearn.metrics import plot_roc_curve\n",
    "svm_disp_roc = plot_roc_curve(svm, X_test, Y_test)\n",
    "bayes_disp_roc = plot_roc_curve(bayes, X_test, Y_test)"
   ]
  },
  {
   "cell_type": "code",
   "execution_count": 35,
   "metadata": {},
   "outputs": [
    {
     "data": {
      "image/png": "[encoded data removed]",
      "text/plain": [
       "<Figure size 432x288 with 2 Axes>"
      ]
     },
     "metadata": {
      "needs_background": "light"
     },
     "output_type": "display_data"
    }
   ],
   "source": [
    "from sklearn.metrics import plot_confusion_matrix\n",
    "svm_disp_matrix = plot_confusion_matrix(svm, X_test, Y_test)"
   ]
  },
  {
   "cell_type": "code",
   "execution_count": 37,
   "metadata": {},
   "outputs": [
    {
     "data": {
      "image/png": "[encoded data removed]",
      "text/plain": [
       "<Figure size 432x288 with 2 Axes>"
      ]
     },
     "metadata": {
      "needs_background": "light"
     },
     "output_type": "display_data"
    }
   ],
   "source": [
    "bayes_disp_matrix = plot_confusion_matrix(bayes,X_test,Y_test)"
   ]
  },
  {
   "cell_type": "code",
   "execution_count": null,
   "metadata": {},
   "outputs": [],
   "source": []
  }
 ],
 "metadata": {
  "colab": {
   "collapsed_sections": [],
   "name": "Testing.py",
   "provenance": [],
   "toc_visible": true
  },
  "kernelspec": {
   "display_name": "Python 3",
   "language": "python",
   "name": "python3"
  },
  "language_info": {
   "codemirror_mode": {
    "name": "ipython",
    "version": 3
   },
   "file_extension": ".py",
   "mimetype": "text/x-python",
   "name": "python",
   "nbconvert_exporter": "python",
   "pygments_lexer": "ipython3",
   "version": "3.8.6"
  }
 },
 "nbformat": 4,
 "nbformat_minor": 1
}
